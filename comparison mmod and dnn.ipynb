{
  "nbformat": 4,
  "nbformat_minor": 0,
  "metadata": {
    "colab": {
      "name": "comparison mmod and dnn.ipynb",
      "provenance": [],
      "private_outputs": true,
      "collapsed_sections": [],
      "authorship_tag": "ABX9TyMkmSW8ovYIcSHO+TtK3KIM",
      "include_colab_link": true
    },
    "kernelspec": {
      "name": "python3",
      "display_name": "Python 3"
    },
    "accelerator": "GPU"
  },
  "cells": [
    {
      "cell_type": "markdown",
      "metadata": {
        "id": "view-in-github",
        "colab_type": "text"
      },
      "source": [
        "<a href=\"https://colab.research.google.com/github/vindruid/face-detection-exploration/blob/master/comparison%20mmod%20and%20dnn.ipynb\" target=\"_parent\"><img src=\"https://colab.research.google.com/assets/colab-badge.svg\" alt=\"Open In Colab\"/></a>"
      ]
    },
    {
      "cell_type": "code",
      "metadata": {
        "id": "Wzuv8oDiYY4E",
        "colab_type": "code",
        "colab": {}
      },
      "source": [
        "import requests\n",
        "from IPython.display import HTML\n",
        "from base64 import b64encode\n",
        "import dlib\n",
        "import cv2\n",
        "import os\n",
        "import matplotlib.pyplot as plt\n",
        "import numpy as np\n",
        "from IPython.display import HTML\n",
        "from base64 import b64encode"
      ],
      "execution_count": 0,
      "outputs": []
    },
    {
      "cell_type": "code",
      "metadata": {
        "id": "aM2vcTsuYV38",
        "colab_type": "code",
        "colab": {}
      },
      "source": [
        "# google drive download utils\n",
        "\n",
        "def download_file_from_google_drive(id, destination):\n",
        "    URL = \"https://docs.google.com/uc?export=download\"\n",
        "\n",
        "    session = requests.Session()\n",
        "\n",
        "    response = session.get(URL, params = { 'id' : id }, stream = True)\n",
        "    token = get_confirm_token(response)\n",
        "\n",
        "    if token:\n",
        "        params = { 'id' : id, 'confirm' : token }\n",
        "        response = session.get(URL, params = params, stream = True)\n",
        "\n",
        "    save_response_content(response, destination)    \n",
        "\n",
        "def get_confirm_token(response):\n",
        "    for key, value in response.cookies.items():\n",
        "        if key.startswith('download_warning'):\n",
        "            return value\n",
        "\n",
        "    return None\n",
        "\n",
        "def save_response_content(response, destination):\n",
        "    CHUNK_SIZE = 32768\n",
        "\n",
        "    with open(destination, \"wb\") as f:\n",
        "        for chunk in response.iter_content(CHUNK_SIZE):\n",
        "            if chunk: # filter out keep-alive new chunks\n",
        "                f.write(chunk)"
      ],
      "execution_count": 0,
      "outputs": []
    },
    {
      "cell_type": "markdown",
      "metadata": {
        "id": "ojoG1fQxBNhp",
        "colab_type": "text"
      },
      "source": [
        "# Download Model"
      ]
    },
    {
      "cell_type": "markdown",
      "metadata": {
        "id": "ynYyfeyyYOwY",
        "colab_type": "text"
      },
      "source": [
        "### MMOD Model"
      ]
    },
    {
      "cell_type": "markdown",
      "metadata": {
        "id": "JMX6DXTAFnYZ",
        "colab_type": "text"
      },
      "source": [
        "source: https://github.com/davisking/dlib-models/"
      ]
    },
    {
      "cell_type": "code",
      "metadata": {
        "id": "_f6F5S5r5K0z",
        "colab_type": "code",
        "colab": {}
      },
      "source": [
        "!wget https://github.com/davisking/dlib-models/raw/master/mmod_human_face_detector.dat.bz2"
      ],
      "execution_count": 0,
      "outputs": []
    },
    {
      "cell_type": "markdown",
      "metadata": {
        "id": "b6RFM1qXFw66",
        "colab_type": "text"
      },
      "source": [
        "extract bz2"
      ]
    },
    {
      "cell_type": "code",
      "metadata": {
        "id": "jWqhnQTx7TC0",
        "colab_type": "code",
        "colab": {}
      },
      "source": [
        "!bzip2 -d mmod_human_face_detector.dat.bz2"
      ],
      "execution_count": 0,
      "outputs": []
    },
    {
      "cell_type": "markdown",
      "metadata": {
        "id": "o4JE2K7sYMgh",
        "colab_type": "text"
      },
      "source": [
        "### caffe model"
      ]
    },
    {
      "cell_type": "code",
      "metadata": {
        "id": "40W6G1cjYTej",
        "colab_type": "code",
        "colab": {}
      },
      "source": [
        "# https://drive.google.com/file/d/1gW1Hgk_KbXWAFvFQrnaZczZyFQJztzNC/view?usp=sharing\n",
        "file_id = '1gW1Hgk_KbXWAFvFQrnaZczZyFQJztzNC'\n",
        "destination = 'deploy.prototxt'\n",
        "download_file_from_google_drive(file_id, destination)"
      ],
      "execution_count": 0,
      "outputs": []
    },
    {
      "cell_type": "code",
      "metadata": {
        "id": "a9CNo3d7YTZr",
        "colab_type": "code",
        "colab": {}
      },
      "source": [
        "# https://drive.google.com/file/d/1fYzYr7qFksB9ajPee4gKLEvB8pBy40i-/view?usp=sharing\n",
        "file_id = '1fYzYr7qFksB9ajPee4gKLEvB8pBy40i-'\n",
        "destination = 'res10_300x300_ssd_iter_140000.caffemodel'\n",
        "download_file_from_google_drive(file_id, destination)"
      ],
      "execution_count": 0,
      "outputs": []
    },
    {
      "cell_type": "markdown",
      "metadata": {
        "id": "1YvNY2K_BPu0",
        "colab_type": "text"
      },
      "source": [
        "# Download Video & Show"
      ]
    },
    {
      "cell_type": "code",
      "metadata": {
        "id": "oZZBBO-bSunz",
        "colab_type": "code",
        "colab": {}
      },
      "source": [
        "# https://drive.google.com/file/d/1LGOPQ1vlmKW_4J8Z1BC8lYEOxeb_-RPG/view?usp=sharing\n",
        "file_id = '1LGOPQ1vlmKW_4J8Z1BC8lYEOxeb_-RPG'\n",
        "destination = 'girl open eyes.mp4'\n",
        "download_file_from_google_drive(file_id, destination)"
      ],
      "execution_count": 0,
      "outputs": []
    },
    {
      "cell_type": "code",
      "metadata": {
        "id": "kHgNt9lnSRcH",
        "colab_type": "code",
        "colab": {}
      },
      "source": [
        "# Show video\n",
        "mp4 = open(destination,'rb').read()\n",
        "data_url = \"data:video/mp4;base64,\" + b64encode(mp4).decode()\n",
        "HTML(\"\"\"\n",
        "<video width=400 controls>\n",
        "      <source src=\"%s\" type=\"video/mp4\">\n",
        "</video>\n",
        "\"\"\" % data_url)"
      ],
      "execution_count": 0,
      "outputs": []
    },
    {
      "cell_type": "markdown",
      "metadata": {
        "id": "NCBLo4Cr812y",
        "colab_type": "text"
      },
      "source": [
        "# Video Properties"
      ]
    },
    {
      "cell_type": "code",
      "metadata": {
        "id": "6EnUojN_QG2p",
        "colab_type": "code",
        "colab": {}
      },
      "source": [
        "path_video = 'girl open eyes.mp4'\n",
        "\n",
        "cap  = cv2.VideoCapture(path_video)\n",
        "_, img = cap.read()\n",
        "\n",
        "fps = cap.get(cv2.CAP_PROP_FPS)\n",
        "w = int(cap.get(cv2.CAP_PROP_FRAME_WIDTH))\n",
        "h = int(cap.get(cv2.CAP_PROP_FRAME_HEIGHT))\n",
        "\n",
        "count_frame = 0\n",
        "\n",
        "while img is not None: \n",
        "    _, img = cap.read()\n",
        "    count_frame += 1\n",
        "\n",
        "print(\"VIDEO FPS:\", fps)\n",
        "print(\"VIDEO width:\", w)\n",
        "print(\"VIDEO heigh:\", h)\n",
        "print(\"VIDEO frame:\", count_frame)\n",
        "print(\"VIDEO length:\", (count_frame / fps), \"second\")\n"
      ],
      "execution_count": 0,
      "outputs": []
    },
    {
      "cell_type": "markdown",
      "metadata": {
        "id": "6uSjq4XlUmSq",
        "colab_type": "text"
      },
      "source": [
        "# Detect Face MMOD"
      ]
    },
    {
      "cell_type": "code",
      "metadata": {
        "id": "C15fxCc4Zscp",
        "colab_type": "code",
        "colab": {}
      },
      "source": [
        "dnnFaceDetector = dlib.cnn_face_detection_model_v1(\"./mmod_human_face_detector.dat\")"
      ],
      "execution_count": 0,
      "outputs": []
    },
    {
      "cell_type": "code",
      "metadata": {
        "id": "JOFsNt_CAE_2",
        "colab_type": "code",
        "colab": {}
      },
      "source": [
        "%%time \n",
        "save_path = 'result_mmod_.mp4'\n",
        "input_size = (200, 150) # w,h\n",
        "\n",
        "cap  = cv2.VideoCapture(path_video)\n",
        "_, img = cap.read()\n",
        "\n",
        "fps = cap.get(cv2.CAP_PROP_FPS)\n",
        "w_origin = int(cap.get(cv2.CAP_PROP_FRAME_WIDTH))\n",
        "h_origin = int(cap.get(cv2.CAP_PROP_FRAME_HEIGHT))\n",
        "w, h = input_size\n",
        "w_ratio = w_origin/w\n",
        "h_ratio = h_origin/h\n",
        "\n",
        "vid_writer = cv2.VideoWriter(save_path, cv2.VideoWriter_fourcc(*'MP4V'), fps, (w_origin, h_origin))\n",
        "\n",
        "\n",
        "while img is not None: \n",
        "    img_resized = cv2.resize(img, input_size)\n",
        "    faceRects = dnnFaceDetector(img_resized, 0)\n",
        "    for faceRect in faceRects:\n",
        "        x1 = int(faceRect.rect.left() * w_ratio)\n",
        "        y1 = int(faceRect.rect.top() * h_ratio)\n",
        "        x2 = int(faceRect.rect.right() * w_ratio)\n",
        "        y2 = int(faceRect.rect.bottom() * h_ratio)\n",
        "\n",
        "        cv2.rectangle(img, (x1, y1), (x2,y2), color = (255, 0, 0), thickness=2 )\n",
        "\n",
        "    vid_writer.write(img)\n",
        "    _, img = cap.read()\n",
        "\n",
        "vid_writer.release()\n"
      ],
      "execution_count": 0,
      "outputs": []
    },
    {
      "cell_type": "code",
      "metadata": {
        "id": "QcmACL5vG0k2",
        "colab_type": "code",
        "colab": {}
      },
      "source": [
        "# compress video\n",
        "result_path = 'result_mmod.mp4'\n",
        "os.system(f\"ffmpeg -i {save_path} -vcodec libx264 {result_path}\")\n",
        "\n",
        "!rm {save_path}"
      ],
      "execution_count": 0,
      "outputs": []
    },
    {
      "cell_type": "code",
      "metadata": {
        "id": "tycLvFxQWjpg",
        "colab_type": "code",
        "colab": {}
      },
      "source": [
        "# Show video\n",
        "mp4 = open(result_path,'rb').read()\n",
        "data_url = \"data:video/mp4;base64,\" + b64encode(mp4).decode()\n",
        "HTML(\"\"\"\n",
        "<video width=400 controls>\n",
        "      <source src=\"%s\" type=\"video/mp4\">\n",
        "</video>\n",
        "\"\"\" % data_url)"
      ],
      "execution_count": 0,
      "outputs": []
    },
    {
      "cell_type": "markdown",
      "metadata": {
        "id": "Lfn3FEnkW1V0",
        "colab_type": "text"
      },
      "source": [
        "# Detect Face caffe"
      ]
    },
    {
      "cell_type": "code",
      "metadata": {
        "id": "iEu9jhp3aKR5",
        "colab_type": "code",
        "colab": {}
      },
      "source": [
        "net = cv2.dnn.readNetFromCaffe('deploy.prototxt',\n",
        "                               'res10_300x300_ssd_iter_140000.caffemodel')"
      ],
      "execution_count": 0,
      "outputs": []
    },
    {
      "cell_type": "code",
      "metadata": {
        "id": "r8aKOLV_aAKh",
        "colab_type": "code",
        "colab": {}
      },
      "source": [
        "%%time \n",
        "save_path = 'result_caffe_.mp4'\n",
        "\n",
        "cap  = cv2.VideoCapture(path_video)\n",
        "_, img = cap.read()\n",
        "\n",
        "fps = cap.get(cv2.CAP_PROP_FPS)\n",
        "w_origin = int(cap.get(cv2.CAP_PROP_FRAME_WIDTH))\n",
        "h_origin = int(cap.get(cv2.CAP_PROP_FRAME_HEIGHT))\n",
        "\n",
        "vid_writer = cv2.VideoWriter(save_path, cv2.VideoWriter_fourcc(*'MP4V'), fps, (w_origin, h_origin))\n",
        "\n",
        "while img is not None: \n",
        "\n",
        "    blob = cv2.dnn.blobFromImage(cv2.resize(img, (300, 300)), 1.0,\n",
        "\t                              (300, 300), (104.0, 177.0, 123.0))\n",
        "    net.setInput(blob)\n",
        "    detections = net.forward()\n",
        "\n",
        "    for i in range(0, detections.shape[2]):\n",
        "        confidence = detections[0, 0, i, 2]\n",
        "        if confidence > 0.8:\n",
        "            box = detections[0, 0, i, 3:7] * np.array([w_origin, h_origin, w_origin, h_origin])\n",
        "            (x1, y1, x2, y2) = box.astype(\"int\")\n",
        "\n",
        "            cv2.rectangle(img, (x1, y1), (x2,y2), color = (0, 255, 0), thickness=2 )\n",
        "\n",
        "    vid_writer.write(img)\n",
        "\n",
        "    _, img = cap.read()\n",
        "\n",
        "vid_writer.release()\n"
      ],
      "execution_count": 0,
      "outputs": []
    },
    {
      "cell_type": "code",
      "metadata": {
        "id": "H_cEZO8xbH0t",
        "colab_type": "code",
        "colab": {}
      },
      "source": [
        "# compress video\n",
        "result_path = 'result_caffe.mp4'\n",
        "os.system(f\"ffmpeg -i {save_path} -vcodec libx264 {result_path}\")\n",
        "\n",
        "!rm {save_path}"
      ],
      "execution_count": 0,
      "outputs": []
    },
    {
      "cell_type": "code",
      "metadata": {
        "id": "0jh5gypxbaoA",
        "colab_type": "code",
        "colab": {}
      },
      "source": [
        "# Show video\n",
        "mp4 = open(result_path,'rb').read()\n",
        "data_url = \"data:video/mp4;base64,\" + b64encode(mp4).decode()\n",
        "HTML(\"\"\"\n",
        "<video width=400 controls>\n",
        "      <source src=\"%s\" type=\"video/mp4\">\n",
        "</video>\n",
        "\"\"\" % data_url)"
      ],
      "execution_count": 0,
      "outputs": []
    },
    {
      "cell_type": "code",
      "metadata": {
        "id": "QNqQqGRAbil4",
        "colab_type": "code",
        "colab": {}
      },
      "source": [
        ""
      ],
      "execution_count": 0,
      "outputs": []
    }
  ]
}